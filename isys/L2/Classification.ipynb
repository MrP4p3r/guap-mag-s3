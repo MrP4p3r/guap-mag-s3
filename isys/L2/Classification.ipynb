{
 "cells": [
  {
   "cell_type": "markdown",
   "metadata": {},
   "source": [
    "# Цель работы\n",
    "\n",
    "Приобретение практических навыков в моделировании однослойных\n",
    "бинарных нейронных сетей, обучаемых методом коррекции ошибки."
   ]
  },
  {
   "cell_type": "markdown",
   "metadata": {},
   "source": [
    "# Задание\n",
    "\n",
    "Вариант 1: Разработать структуру сети и обучить такую сеть распознавать символы: [Г, Л, В, 0, 1]. Обучение производится с помощью метода коррекции ошибки. Дополнительно требуется подготовить тренировочную (для обучения) и тестовую выборку."
   ]
  },
  {
   "cell_type": "markdown",
   "metadata": {},
   "source": [
    "# Набор данных\n",
    "\n",
    "В процессе выполнения работы было подготовлено множество изображений в количестве 25 штук на каждый символ из задания.\n",
    "Множество поделено на тренировочную и тестовую выборку в пропорции 4:1. Пример изображений можно видеть ниже."
   ]
  },
  {
   "cell_type": "code",
   "execution_count": 1,
   "metadata": {},
   "outputs": [
    {
     "data": {
      "text/plain": [
       "<matplotlib.image.AxesImage at 0x7fecf5ec5da0>"
      ]
     },
     "execution_count": 1,
     "metadata": {},
     "output_type": "execute_result"
    },
    {
     "data": {
      "image/png": "[encoded data removed]",
      "text/plain": [
       "<matplotlib.figure.Figure at 0x7fecfbeb6a90>"
      ]
     },
     "metadata": {},
     "output_type": "display_data"
    }
   ],
   "source": [
    "%matplotlib inline\n",
    "\n",
    "import numpy as np\n",
    "import matplotlib.pyplot as plt\n",
    "import dataset\n",
    "\n",
    "(x_train, y_train), (x_test, y_test) = dataset.load_data()\n",
    "\n",
    "samples = np.vstack([np.hstack(x_train[:10]), np.hstack(x_train[10:20])])\n",
    "\n",
    "plt.figure(figsize=(10, 10)); plt.axis('off')\n",
    "plt.imshow(samples, cmap='gray')"
   ]
  },
  {
   "cell_type": "markdown",
   "metadata": {},
   "source": [
    "# Обучение\n",
    "\n",
    "Открываем заранее подготовленные обучающую и тестовую выборки с метками и дополнительно преобразуем данные в необходимый формат."
   ]
  },
  {
   "cell_type": "code",
   "execution_count": 2,
   "metadata": {},
   "outputs": [],
   "source": [
    "import dataset\n",
    "from nnbinary import to_categorical\n",
    "\n",
    "(x_train, y_train), (x_test, y_test) = dataset.load_data()\n",
    "input_shape = x_train.shape[1:]\n",
    "number_of_classes = 5\n",
    "\n",
    "white_color_threshold = 10\n",
    "X_train = (x_train > white_color_threshold).astype('float32')\n",
    "X_test = (x_test > white_color_threshold).astype('float32')\n",
    "\n",
    "Y_train = to_categorical(y_train, list(range(number_of_classes)))\n",
    "Y_test = to_categorical(y_test, list(range(number_of_classes)))"
   ]
  },
  {
   "cell_type": "markdown",
   "metadata": {},
   "source": [
    "Попробуем обучить сеть. Реализацию класса OneLayerBinaryNN можно найти у меня на [GitHub](https://github.com/MrP4p3r)."
   ]
  },
  {
   "cell_type": "code",
   "execution_count": 3,
   "metadata": {
    "scrolled": true
   },
   "outputs": [
    {
     "name": "stdout",
     "output_type": "stream",
     "text": [
      "Epoch 0.  train acc: 0.7500  test acc: 0.5600\n",
      "Epoch 1.  train acc: 0.9000  test acc: 0.6000\n",
      "Epoch 2.  train acc: 0.9200  test acc: 0.7600\n",
      "Epoch 3.  train acc: 0.9700  test acc: 0.6400\n",
      "Epoch 4.  train acc: 0.9900  test acc: 0.6000\n",
      "Epoch 5.  train acc: 0.9900  test acc: 0.6400\n",
      "Epoch 6.  train acc: 1.0000  test acc: 0.6000\n",
      "Early stopping. Train accuracy is 100%\n",
      "Done\n"
     ]
    }
   ],
   "source": [
    "from nnbinary import OneLayerBinaryNN\n",
    "\n",
    "max_epochs = 100\n",
    "\n",
    "net = OneLayerBinaryNN(input_shape, number_of_classes)\n",
    "net.fit(X_train, Y_train, max_epochs, X_test, Y_test, verbose=1)"
   ]
  },
  {
   "cell_type": "markdown",
   "metadata": {},
   "source": [
    "Как видно выше, точность на тестовой выборке оставляет желать лучшего.\n",
    "Посмотрим, как выглядят веса, соответствующие меткам."
   ]
  },
  {
   "cell_type": "code",
   "execution_count": 4,
   "metadata": {
    "scrolled": false
   },
   "outputs": [
    {
     "data": {
      "image/png": "[encoded data removed]",
      "text/plain": [
       "<matplotlib.figure.Figure at 0x7fed24309fd0>"
      ]
     },
     "metadata": {},
     "output_type": "display_data"
    }
   ],
   "source": [
    "plt.figure(figsize=(8, 6))\n",
    "label_names = ['0', '1', 'В', 'Г', 'Л']\n",
    "for idx in range(net.weights.shape[0]):\n",
    "    plt.subplot(231 + idx)\n",
    "    plt.imshow(net.weights[idx], cmap='gray')\n",
    "    plt.title(label_names[idx])"
   ]
  },
  {
   "cell_type": "markdown",
   "metadata": {},
   "source": [
    "Выходной вектор сети может содержать несколько единиц. Сеть считает, что изображение принадлежит нескольким классам,\n",
    "что в контексте этой задачи является неверным. Для улучшения результата можно воспользоваться чем-то вроде бинарного\n",
    "варианта softmax активации. Такая функция работает по принципу \"победитель забирает все\". То есть, выходной вектор\n",
    "содержит только одну единицу, соответствующую максимальной сумме произведений входов на веса."
   ]
  },
  {
   "cell_type": "code",
   "execution_count": 5,
   "metadata": {},
   "outputs": [
    {
     "name": "stdout",
     "output_type": "stream",
     "text": [
      "Epoch 0.  train acc: 0.6500  test acc: 0.4800\n",
      "Epoch 1.  train acc: 0.9500  test acc: 0.8400\n",
      "Epoch 2.  train acc: 0.9500  test acc: 0.8800\n",
      "Epoch 3.  train acc: 1.0000  test acc: 0.8800\n",
      "Early stopping. Train accuracy is 100%\n",
      "Done\n"
     ]
    }
   ],
   "source": [
    "def binary_softmax(raw_outputs):\n",
    "    maxidx = np.argmax(raw_outputs)\n",
    "    outputs = np.zeros(raw_outputs.shape[0])\n",
    "    outputs[maxidx] = 1.\n",
    "    return outputs\n",
    "\n",
    "max_epochs = 100\n",
    "\n",
    "net2 = OneLayerBinaryNN(input_shape, number_of_classes, activation=binary_softmax)\n",
    "net2.fit(X_train, Y_train, max_epochs, X_test, Y_test, verbose=1)"
   ]
  },
  {
   "cell_type": "markdown",
   "metadata": {},
   "source": [
    "Можно заметить, что обобщенные образы на изображения весов сети выделяются сильнее. Причиной этому является корректировка весов в большую сторону даже в том случае, когда пороговая функция вернула единицу. То есть, для некорректно сработавших весов коррекция идет \"в минус\", а для тех, которые сработали не достатоно сильно, идет коррекция \"в плюс\"."
   ]
  },
  {
   "cell_type": "code",
   "execution_count": 6,
   "metadata": {},
   "outputs": [
    {
     "data": {
      "image/png": "[encoded data removed]",
      "text/plain": [
       "<matplotlib.figure.Figure at 0x7fed2431ff28>"
      ]
     },
     "metadata": {},
     "output_type": "display_data"
    }
   ],
   "source": [
    "plt.figure(figsize=(8, 6))\n",
    "label_names = ['0', '1', 'В', 'Г', 'Л']\n",
    "for idx in range(net.weights.shape[0]):\n",
    "    plt.subplot(231 + idx)\n",
    "    plt.imshow(net2.weights[idx], cmap='gray')\n",
    "    plt.title(label_names[idx])"
   ]
  },
  {
   "cell_type": "markdown",
   "metadata": {},
   "source": [
    "# Вывод\n",
    "\n",
    "Данный метод машинного обучения довольно прост. Однако его использование не гарантирует высокой точности распознавания.\n",
    "\n",
    "При разделении входных данных на тренировочную и тестовую выборки в разных пропорциях бинарный аналог активации softmax статистически показал более высокую точность в сравнении с пороговой активацией. При разделении данных в пропорции по умолчанию точность поднялась с 60% до 88%. Показательно также обучение сети за меньшее число эпох."
   ]
  }
 ],
 "metadata": {
  "kernelspec": {
   "display_name": "Python 3",
   "language": "python",
   "name": "python3"
  },
  "language_info": {
   "codemirror_mode": {
    "name": "ipython",
    "version": 3
   },
   "file_extension": ".py",
   "mimetype": "text/x-python",
   "name": "python",
   "nbconvert_exporter": "python",
   "pygments_lexer": "ipython3",
   "version": "3.6.3"
  }
 },
 "nbformat": 4,
 "nbformat_minor": 2
}
