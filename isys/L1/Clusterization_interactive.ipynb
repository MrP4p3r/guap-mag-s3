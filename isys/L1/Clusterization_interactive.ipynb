{
 "cells": [
  {
   "cell_type": "markdown",
   "metadata": {},
   "source": [
    "# Задание\n",
    "\n",
    "Вариант 1: Разработать программу, выполняющую кластеризацию пороговым методом. Для вычисления расстояний между образами необходимо использовать формулу расстояния Евклида и расстояния Канберра."
   ]
  },
  {
   "cell_type": "markdown",
   "metadata": {},
   "source": [
    "# Реализация\n",
    "\n",
    "Зададим множество точек (образов) для дальнейшей кластеризации."
   ]
  },
  {
   "cell_type": "code",
   "execution_count": 1,
   "metadata": {},
   "outputs": [
    {
     "data": {
      "text/plain": [
       "array([[  0.,   1.,   1.],\n",
       "       [  0.,   1.,   7.],\n",
       "       [  5.,   7.,   4.],\n",
       "       [  0.,   5.,   5.],\n",
       "       [  9.,   4.,   5.],\n",
       "       [  7.,   1.,   2.],\n",
       "       [ 10.,   0.,  19.],\n",
       "       [  0.,  12.,   7.],\n",
       "       [ -5.,  -4.,   5.],\n",
       "       [ 20.,  10.,  15.],\n",
       "       [  0.,  16., -16.],\n",
       "       [ -1.,   9., -30.],\n",
       "       [ 18.,   0.,  17.],\n",
       "       [  6.,  18.,   4.]], dtype=float32)"
      ]
     },
     "execution_count": 1,
     "metadata": {},
     "output_type": "execute_result"
    }
   ],
   "source": [
    "import numpy as np\n",
    "\n",
    "data = np.array([\n",
    "    (0,1,1), (0,1,7), (5,7,4), (0,5,5), (9,4,5), (7,1,2), (10,0,19),\n",
    "    (0,12,7), (-5,-4,5), (20,10,15), (0,16,-16), (-1,9,-30),\n",
    "    (18,0,17), (6,18,4)\n",
    "], dtype='float32')\n",
    "\n",
    "data"
   ]
  },
  {
   "cell_type": "markdown",
   "metadata": {},
   "source": [
    "Функции для расчета расстояния между точками. Используется расстояние Евклида:\n",
    "\n",
    "$$ \\sum_{i=1}^{n} (x_i - y_i)^2. $$\n",
    "\n",
    "И расстояние Канберра:\n",
    "\n",
    "$$ \\sum_{i=1}^{n} \\left|\\dfrac{x_i - y_i}{\\left| x_i \\right| + \\left| y_i \\right|}\\right| $$\n",
    "\n",
    "При вычислении расстояния Канберра возможно деление на ноль, поэтому все нули в знаменателе заменяются на $10^{-5}$."
   ]
  },
  {
   "cell_type": "code",
   "execution_count": 2,
   "metadata": {},
   "outputs": [],
   "source": [
    "def euclidian_distances(x, y, p=2):\n",
    "    return np.sqrt(np.sum((x - y)**p, axis=1))\n",
    "\n",
    "def canberra_distances(x, y):\n",
    "    divisor = np.abs(x)+np.abs(y)\n",
    "    np.place(divisor, (divisor == 0), 1e-5)\n",
    "    return np.sum(np.abs((x-y)/divisor), axis=1)"
   ]
  },
  {
   "cell_type": "markdown",
   "metadata": {},
   "source": [
    "Реализуем функцию кластеризации в соответствии выбранным методом и пару вспомогательных функций"
   ]
  },
  {
   "cell_type": "code",
   "execution_count": 3,
   "metadata": {
    "scrolled": false
   },
   "outputs": [],
   "source": [
    "def calculate_distances(func, image, clusters):\n",
    "    \"\"\"Вспомогательная функция для вычисления расстояния между заданным образом и кластерами\"\"\"\n",
    "    image_t = np.tile(image, (clusters.shape[0], 1))\n",
    "    distance = func(image_t, clusters)\n",
    "    return distance\n",
    "\n",
    "def calculate_cluster_center(cluster):\n",
    "    \"\"\"Вычисляет арифмитическое среднее\"\"\"\n",
    "    return np.sum(cluster, axis=0)/cluster.shape[0]\n",
    "\n",
    "def clusterize(data, threshold, func):\n",
    "    \"\"\"Выполняет кластеризацию данных, используя заданный порог и функцию вычисления расстояния\"\"\"\n",
    "    clusters_centers = data[:1].copy()\n",
    "    clusters_images = [data[:1].copy()]\n",
    "    for image in data[1:]:\n",
    "        distances = calculate_distances(func, image, clusters_centers)\n",
    "        if np.all(distances > threshold):\n",
    "            # новый кластер\n",
    "            clusters_centers = np.append(clusters_centers, np.array([image.copy()]), axis=0)\n",
    "            clusters_images.append(np.array([image.copy()]))\n",
    "        else:\n",
    "            # добавляю в существующий кластер\n",
    "            idx = np.argmin(distances)\n",
    "            newcluster = np.append(clusters_images[idx], np.array([image.copy()]), axis=0)\n",
    "            clusters_images[idx] = newcluster\n",
    "            clusters_centers[idx] = calculate_cluster_center(newcluster)\n",
    "    # форматирование данных\n",
    "    number_of_clusters = len(clusters_centers)\n",
    "    result = np.zeros((number_of_clusters, 2), dtype='O')\n",
    "    for i in range(number_of_clusters):\n",
    "        result[i,0] = clusters_centers[i]\n",
    "        result[i,1] = clusters_images[i]\n",
    "    return result"
   ]
  },
  {
   "cell_type": "markdown",
   "metadata": {},
   "source": [
    "Теперь можно поэксперементировать с кластеризацией, выбирая предел и функцию расстояния."
   ]
  },
  {
   "cell_type": "code",
   "execution_count": 4,
   "metadata": {},
   "outputs": [
    {
     "data": {
      "application/vnd.jupyter.widget-view+json": {
       "model_id": "0f38d8c291104481b4c8324bfc8f46b6",
       "version_major": 2,
       "version_minor": 0
      },
      "text/html": [
       "<p>Failed to display Jupyter Widget of type <code>FloatSlider</code>.</p>\n",
       "<p>\n",
       "  If you're reading this message in Jupyter Notebook or JupyterLab, it may mean\n",
       "  that the widgets JavaScript is still loading. If this message persists, it\n",
       "  likely means that the widgets JavaScript library is either not installed or\n",
       "  not enabled. See the <a href=\"https://ipywidgets.readthedocs.io/en/stable/user_install.html\">Jupyter\n",
       "  Widgets Documentation</a> for setup instructions.\n",
       "</p>\n",
       "<p>\n",
       "  If you're reading this message in another notebook frontend (for example, a static\n",
       "  rendering on GitHub or <a href=\"https://nbviewer.jupyter.org/\">NBViewer</a>),\n",
       "  it may mean that your frontend doesn't currently support widgets.\n",
       "</p>\n"
      ],
      "text/plain": [
       "FloatSlider(value=5.0, description='max threshold', max=300.0, min=0.5)"
      ]
     },
     "metadata": {},
     "output_type": "display_data"
    },
    {
     "data": {
      "application/vnd.jupyter.widget-view+json": {
       "model_id": "c6db1c4653b34c44b3f04de7827e4666",
       "version_major": 2,
       "version_minor": 0
      },
      "text/html": [
       "<p>Failed to display Jupyter Widget of type <code>interactive</code>.</p>\n",
       "<p>\n",
       "  If you're reading this message in Jupyter Notebook or JupyterLab, it may mean\n",
       "  that the widgets JavaScript is still loading. If this message persists, it\n",
       "  likely means that the widgets JavaScript library is either not installed or\n",
       "  not enabled. See the <a href=\"https://ipywidgets.readthedocs.io/en/stable/user_install.html\">Jupyter\n",
       "  Widgets Documentation</a> for setup instructions.\n",
       "</p>\n",
       "<p>\n",
       "  If you're reading this message in another notebook frontend (for example, a static\n",
       "  rendering on GitHub or <a href=\"https://nbviewer.jupyter.org/\">NBViewer</a>),\n",
       "  it may mean that your frontend doesn't currently support widgets.\n",
       "</p>\n"
      ],
      "text/plain": [
       "interactive(children=(FloatSlider(value=2.0, description='threshold', max=5.0), Dropdown(description='func', options={'Расстояние Евклида': <function euclidian_distances at 0x7f02987797b8>, 'Расстояние Канберра': <function canberra_distances at 0x7f0298779730>}, value=<function euclidian_distances at 0x7f02987797b8>), Output()), _dom_classes=('widget-interact',))"
      ]
     },
     "metadata": {},
     "output_type": "display_data"
    }
   ],
   "source": [
    "import pandas as pd\n",
    "from ipywidgets import interact, interactive, widgets\n",
    "from IPython.display import display\n",
    "\n",
    "pd.set_option('max_colwidth', 300)\n",
    "\n",
    "distance_functions = {'Расстояние Евклида': euclidian_distances, 'Расстояние Канберра': canberra_distances}\n",
    "\n",
    "threshold_sl = widgets.FloatSlider(min=0., max=5., value=2.)\n",
    "max_threshold_sl = widgets.FloatSlider(min=0.5, max=300., value=5., description='max threshold')\n",
    "max_threshold_sl.observe(lambda nx: setattr(threshold_sl, 'max', max_threshold_sl.value))\n",
    "display(max_threshold_sl)\n",
    "@interact(threshold=threshold_sl, func=distance_functions)\n",
    "def interactive_clusterize(threshold, func):\n",
    "    clusterized_data = clusterize(data, threshold, func)\n",
    "    return pd.DataFrame(clusterized_data, index=np.arange(clusterized_data.shape[0]), columns=['Центр кластера', 'Образы'])"
   ]
  }
 ],
 "metadata": {
  "kernelspec": {
   "display_name": "Python 3",
   "language": "python",
   "name": "python3"
  },
  "language_info": {
   "codemirror_mode": {
    "name": "ipython",
    "version": 3
   },
   "file_extension": ".py",
   "mimetype": "text/x-python",
   "name": "python",
   "nbconvert_exporter": "python",
   "pygments_lexer": "ipython3",
   "version": "3.6.3"
  }
 },
 "nbformat": 4,
 "nbformat_minor": 2
}
